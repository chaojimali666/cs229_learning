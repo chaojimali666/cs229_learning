{
 "cells": [
  {
   "cell_type": "markdown",
   "metadata": {},
   "source": [
    "http://cs229.stanford.edu/ps/ps1/ps1.pdf"
   ]
  },
  {
   "cell_type": "markdown",
   "metadata": {},
   "source": [
    "# (a)"
   ]
  },
  {
   "cell_type": "markdown",
   "metadata": {},
   "source": [
    "Use $(k)$ instead of $(i)$ for indexing data point to avoid confusion later, and use $i$ and $j$ to index the dimensions of $x$. Suppose the $x^{(k)}$ is a $n$-dimension vector.\n",
    "\n",
    "\\begin{align*}\n",
    "J(\\theta) &= \\frac{1}{m} \\sum_{k=1}^{m} \\mathrm{log}(1 + e ^{-y^{(k)} \\theta^T x^{(k)})} \\\\\n",
    "               &= - \\frac{1}{m} \\sum_{k=1}^{m} \\mathrm{log}(g(z^{(k)}))\n",
    "\\end{align*}\n",
    "\n",
    "where $g(z^{(k)}) = \\frac{1}{1 + e^{-z^{(k)}}}$ and $z^{(k)} = y^{(k)} \\theta^T x^{(k)}$. For clarity, in the following derivation, $z = z^{(k)}$."
   ]
  },
  {
   "cell_type": "markdown",
   "metadata": {},
   "source": [
    "Note that\n",
    "\n",
    "\\begin{align*}\n",
    "\\frac{\\partial g}{\\partial z} =\\frac{\\partial \\frac{1}{1 + e^{-z}}}{\\partial z}  \n",
    "                              =\\frac{0 - 1 \\times \\frac{\\partial (1 + e^{-z})}{\\partial z}}{(1 + e^{-z})^2} \n",
    "                              =\\frac{e^{-z}}{(1 + e^{-z})^2} \n",
    "                              =\\frac{1}{1 + e^{-z}} \\cdot \\frac{e^{-z}}{1 + e^{-z}}\n",
    "                              =g(1 - g)\n",
    "\\end{align*}"
   ]
  },
  {
   "cell_type": "markdown",
   "metadata": {},
   "source": [
    "and similarly (unnecessary for this problem, just put here for reference),\n",
    "\n",
    "\\begin{align*}\n",
    "\\frac{\\partial (1 - g)}{\\partial z} \n",
    "= \\frac{\\partial \\frac{e^{-z}}{1 + e^{-z}}}{\\partial z}\n",
    "= - \\frac{\\partial g}{\\partial z} = g(g - 1)\n",
    "\\end{align*}"
   ]
  },
  {
   "cell_type": "markdown",
   "metadata": {},
   "source": [
    "So\n",
    "\n",
    "\\begin{align*}\n",
    "\\frac{\\partial J}{\\partial \\theta_i} \n",
    " &= -\\frac{1}{m} \\sum_{k=1}^{m} \\frac{1}{g(z)} \\frac{\\partial g(z)}{\\partial z} \\frac{\\partial z(\\theta_i)}{\\partial \\theta_i}  \\\\\n",
    " &= -\\frac{1}{m} \\sum_{k=1}^{m} \\frac{1}{g(z)} g(z) (1 - g(z)) \\frac{\\partial z}{\\partial \\theta_i}  \\\\\n",
    " &= -\\frac{1}{m} \\sum_{k=1}^{m} (1 - g(z)) \\frac{\\partial z}{\\partial \\theta_i}  \\\\\n",
    " &= -\\frac{1}{m} \\sum_{k=1}^{m} (1 - g(z)) y^{(k)} x_i^{(k)}  \\\\\n",
    " &= \\frac{1}{m} \\sum_{k=1}^{m} (g(z) - 1) y^{(k)} x_i^{(k)}  \\\\\n",
    "\\end{align*}\n"
   ]
  },
  {
   "cell_type": "markdown",
   "metadata": {},
   "source": [
    "Then,\n",
    "\n",
    "\\begin{align*}\n",
    "H_{ij} = \\frac{\\partial J}{\\partial \\theta_i \\partial \\theta_j} \n",
    "&= \\frac{1}{m} \\sum_{k=1}^{m} \\frac{\\partial (g(z)  - 1)}{\\partial \\theta_j} y^{(k)} x_i^{(k)} \\\\\n",
    "&= \\frac{1}{m} \\sum_{k=1}^{m} \\frac {\\partial g(z)}{\\partial \\theta_j} y^{(k)} x_i^{(k)} \\\\\n",
    "&= \\frac{1}{m} \\sum_{k=1}^{m} g(z)(1 - g(z)) \\frac{\\partial z}{\\partial \\theta_j} y^{(k)} x_i^{(k)} \\\\\n",
    "&= \\frac{1}{m} \\sum_{k=1}^{m} g(z)(1 - g(z)) y^{(k)} x_j^{(k)} y^{(k)} x_i^{(k)} \\\\\n",
    "&= \\frac{1}{m} \\sum_{k=1}^{m} g(z)(1 - g(z)) x_i^{(k)} x_j^{(k)} \\\\\n",
    "\\end{align*}"
   ]
  },
  {
   "cell_type": "markdown",
   "metadata": {},
   "source": [
    "Lastly,\n",
    "\n",
    "\\begin{align*}\n",
    "z^THz &= \\sum_{i=1}^{n} \\sum_{j=1}^{n} z_i H_{ij} z_j \\\\\n",
    "           &= \\sum_{i=1}^{n} \\sum_{j=1}^{n} [z_i \\frac{1}{m} \\sum_{k=1}^{m} g(z)(1 - g(z)) x_i^{(k)} x_j^{(k)}] z_j \\\\\n",
    "           &= \\frac{1}{m} \\sum_{k=1}^{m} g(z)(1 - g(z)) \\sum_{i=1}^{n} \\sum_{j=1}^{n} z_i x_i^{(k)} x_j^{(k)} z_j\n",
    "\\end{align*}"
   ]
  },
  {
   "cell_type": "markdown",
   "metadata": {},
   "source": [
    "Given that $1 > g(z) > 0$ and $\\sum_{i=1}^{n} \\sum_{j=1}^{n} z_i x_i^{(k)} x_j^{(k)} z_j = ((x^{(k)})^T z)^2 \\ge 0$, \n",
    "\n",
    "$z^T H z \\ge 0$, so $H$ is PSD, i.e. $H \\succeq 0$. \n",
    "\n",
    "Hence, $J$ is convex and it has no local minima."
   ]
  },
  {
   "cell_type": "markdown",
   "metadata": {
    "collapsed": true
   },
   "source": [
    "# (b) Implement Newton's method for logistic regression"
   ]
  },
  {
   "cell_type": "code",
   "execution_count": 1,
   "metadata": {},
   "outputs": [],
   "source": [
    "import numpy as np\n",
    "import pandas as pd\n",
    "import matplotlib.pyplot as plt\n",
    "\n",
    "%matplotlib inline"
   ]
  },
  {
   "cell_type": "code",
   "execution_count": 2,
   "metadata": {},
   "outputs": [],
   "source": [
    "df_X = pd.read_csv('http://cs229.stanford.edu/ps/ps1/logistic_x.txt', sep='\\ +', header=None, engine='python')\n",
    "ys = pd.read_csv('http://cs229.stanford.edu/ps/ps1/logistic_y.txt', sep='\\ +', header=None, engine='python')\n",
    "ys = ys.astype(int)"
   ]
  },
  {
   "cell_type": "code",
   "execution_count": 3,
   "metadata": {},
   "outputs": [],
   "source": [
    "df_X['label'] = ys[0].values"
   ]
  },
  {
   "cell_type": "markdown",
   "metadata": {},
   "source": [
    "Quick look at the data"
   ]
  },
  {
   "cell_type": "code",
   "execution_count": 4,
   "metadata": {},
   "outputs": [
    {
     "data": {
      "text/plain": [
       "<matplotlib.axes._subplots.AxesSubplot at 0xe126f10>"
      ]
     },
     "execution_count": 4,
     "metadata": {},
     "output_type": "execute_result"
    },
    {
     "data": {
      "image/png": "[encoded data removed]",
      "text/plain": [
       "<Figure size 432x288 with 1 Axes>"
      ]
     },
     "metadata": {},
     "output_type": "display_data"
    }
   ],
   "source": [
    "ax = plt.axes()\n",
    "\n",
    "df_X.query('label == -1').plot.scatter(x=0, y=1, ax=ax, color='blue')\n",
    "df_X.query('label == 1').plot.scatter(x=0, y=1, ax=ax, color='red')"
   ]
  },
  {
   "cell_type": "markdown",
   "metadata": {},
   "source": [
    "Newton's method addresses getting to $f(\\theta) = 0$, and minimizing $J(\\theta)$ means getting $\\frac{\\partial J}{\\partial \\theta}$ to 0. There after applying Newton's method, extending it to multidimensional setting (Newton-Raphson method), the update rule becomes:\n",
    "\n",
    "\\begin{align*}\n",
    "\\theta &:= \\theta - \\frac{\\partial J(\\theta) / \\partial \\theta} {H} \\\\\n",
    "       &:= \\theta - \\frac{\\nabla_{\\theta} J(\\theta)} {H} \\\\\n",
    "       &:= \\theta - H^{-1} \\nabla_{\\theta} J(\\theta)\n",
    "\\end{align*}\n",
    "\n",
    "Note, the $H$ in the denominator may not be a valid mathematical expression as it is actually an inverse operation."
   ]
  },
  {
   "cell_type": "code",
   "execution_count": 5,
   "metadata": {},
   "outputs": [],
   "source": [
    "Xs = df_X[[0, 1]].values"
   ]
  },
  {
   "cell_type": "code",
   "execution_count": 6,
   "metadata": {},
   "outputs": [
    {
     "data": {
      "text/plain": [
       "(99, 2)"
      ]
     },
     "execution_count": 6,
     "metadata": {},
     "output_type": "execute_result"
    }
   ],
   "source": [
    "Xs.shape"
   ]
  },
  {
   "cell_type": "code",
   "execution_count": 7,
   "metadata": {},
   "outputs": [],
   "source": [
    "# adding a columns of ones for the intercept terms, and also use column vectors\n",
    "Xs = np.hstack([np.ones((Xs.shape[0], 1)), Xs])\n",
    "ys = df_X['label'].values"
   ]
  },
  {
   "cell_type": "markdown",
   "metadata": {},
   "source": [
    "Copied equations from above:\n",
    "\n",
    "$$z^{(k)} = y^{(k)} \\theta^T x^{(k)}$$\n",
    "\n",
    "$$g(z^{(k)}) = \\frac{1}{1 + e^{-z^{(k)}}}$$\n",
    "\n",
    "$$\n",
    "\\frac{\\partial J}{\\partial \\theta_i} \n",
    " = \\frac{1}{m} \\sum_{k=1}^{m} (g(z^{(k)}) - 1) y^{(k)} x_i^{(k)}\n",
    "$$\n",
    "\n",
    "$$\n",
    "H_{ij} = \\frac{1}{m} \\sum_{k=1}^{m} g(z^{(k)})(1 - g(z^{(k)})) x_i^{(k)} x_j^{(k)}\n",
    "$$"
   ]
  },
  {
   "cell_type": "code",
   "execution_count": 18,
   "metadata": {},
   "outputs": [
    {
     "name": "stdout",
     "output_type": "stream",
     "text": [
      "(3,) (99,) (99, 3)\n",
      "converged after 7 iterations\n"
     ]
    }
   ],
   "source": [
    "all_thetas = [] # collect for demonstration purpose\n",
    "theta = np.zeros(Xs.shape[1])\n",
    "tol = 1e9\n",
    "n_iters = 0\n",
    "print(theta.shape,ys.shape,Xs.shape)\n",
    "while tol > 1e-6:\n",
    "    zs = ys * Xs.dot(theta)\n",
    "    gzs = 1 / (1 + np.exp(-zs))\n",
    "    nabla = np.mean((gzs - 1) * ys * Xs.T, axis=1)\n",
    "    \n",
    "    # Refactor, more efficient way of calculating hessian\n",
    "    hessian = np.zeros((Xs.shape[1], Xs.shape[1]))\n",
    "    for i in range(hessian.shape[0]):\n",
    "        for j in range(hessian.shape[0]):\n",
    "            if i <= j:\n",
    "                hessian[i][j] = np.mean(gzs * (1 - gzs) * Xs[:,i] * Xs[:,j])\n",
    "                if i != j:\n",
    "                    hessian[j][i] = hessian[i][j]\n",
    "            \n",
    "    delta = np.linalg.inv(hessian).dot(nabla)\n",
    "    old_theta = theta.copy()\n",
    "    theta -= delta\n",
    "    all_thetas.append(theta.copy())\n",
    "    n_iters += 1\n",
    "    tol = np.sum(np.abs(theta - old_theta))\n",
    "print('converged after {0} iterations'.format(n_iters))"
   ]
  },
  {
   "cell_type": "code",
   "execution_count": null,
   "metadata": {},
   "outputs": [],
   "source": []
  },
  {
   "cell_type": "code",
   "execution_count": 10,
   "metadata": {},
   "outputs": [
    {
     "data": {
      "text/plain": [
       "<matplotlib.legend.Legend at 0x11614da90>"
      ]
     },
     "execution_count": 10,
     "metadata": {},
     "output_type": "execute_result"
    },
    {
     "data": {
      "image/png": "[encoded data removed]",
      "text/plain": [
       "<matplotlib.figure.Figure at 0x115db1390>"
      ]
     },
     "metadata": {},
     "output_type": "display_data"
    }
   ],
   "source": [
    "ax = plt.axes()\n",
    "\n",
    "df_X.query('label == -1').plot.scatter(x=0, y=1, ax=ax, color='blue')\n",
    "df_X.query('label == 1').plot.scatter(x=0, y=1, ax=ax, color='red')\n",
    "\n",
    "_xs = np.array([np.min(Xs[:,1]), np.max(Xs[:,1])])\n",
    "for k, theta in enumerate(all_thetas):\n",
    "    _ys = (theta[0] + theta[1] * _xs) / (- theta[2])\n",
    "    plt.plot(_xs, _ys, label='iter {0}'.format(k + 1), lw=0.5)\n",
    "plt.legend(bbox_to_anchor=(1.04,1), loc=\"upper left\")"
   ]
  },
  {
   "cell_type": "markdown",
   "metadata": {},
   "source": [
    "Since all the lines are so close to each other, Newton's method converges very quickly, at least for this dataset."
   ]
  },
  {
   "cell_type": "code",
   "execution_count": null,
   "metadata": {
    "collapsed": true
   },
   "outputs": [],
   "source": []
  }
 ],
 "metadata": {
  "anaconda-cloud": {},
  "kernelspec": {
   "display_name": "Python 3",
   "language": "python",
   "name": "python3"
  },
  "language_info": {
   "codemirror_mode": {
    "name": "ipython",
    "version": 3
   },
   "file_extension": ".py",
   "mimetype": "text/x-python",
   "name": "python",
   "nbconvert_exporter": "python",
   "pygments_lexer": "ipython3",
   "version": "3.6.4"
  }
 },
 "nbformat": 4,
 "nbformat_minor": 1
}
